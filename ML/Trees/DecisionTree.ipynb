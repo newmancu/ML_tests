{
 "metadata": {
  "language_info": {
   "codemirror_mode": {
    "name": "ipython",
    "version": 3
   },
   "file_extension": ".py",
   "mimetype": "text/x-python",
   "name": "python",
   "nbconvert_exporter": "python",
   "pygments_lexer": "ipython3",
   "version": "3.7.4"
  },
  "orig_nbformat": 2,
  "kernelspec": {
   "name": "python3",
   "display_name": "Python 3.7.4 64-bit",
   "metadata": {
    "interpreter": {
     "hash": "b41d90c243a9b936b6744dd540e623bb51b1d6e4c42418c59c8889eb68b21ec1"
    }
   }
  }
 },
 "nbformat": 4,
 "nbformat_minor": 2,
 "cells": [
  {
   "cell_type": "code",
   "execution_count": 2,
   "metadata": {},
   "outputs": [],
   "source": [
    "import pandas as pd\n",
    "import numpy as np\n",
    "import torch\n",
    "import matplotlib.pyplot as plt\n",
    "%matplotlib inline"
   ]
  },
  {
   "cell_type": "code",
   "execution_count": 465,
   "metadata": {},
   "outputs": [],
   "source": [
    "class Tree:\n",
    "    def __init__(self, w=0, f_index=0, root=None, \n",
    "        left_c=None, right_c=None, f_type=0, cat_class=None, class_type=None):\n",
    "        self.root = root\n",
    "        self.left = left_c\n",
    "        self.right = right_c\n",
    "        self.w = w\n",
    "        self.ftype = f_type # 0 - numbs, 1 - categs\n",
    "        if self.ftype and cat_class is None:\n",
    "            raise \"cat_class hasn't been passed\"\n",
    "        self.cat_class = cat_class\n",
    "        self.f_index = f_index\n",
    "        self.class_type = class_type\n",
    "\n",
    "    def __str__(self):\n",
    "        st = f\"Root: {self.root}, w: {self.w}, f_index: {self.f_index}\"\n",
    "        if self.left is not None:\n",
    "            st += f\", left: {self.left.f_index}\"\n",
    "        if self.right is not None:\n",
    "            st += f\", right: {self.right.f_index}\"\n",
    "        return st\n",
    "\n",
    "    def _move(self, x):\n",
    "        if x[self.f_index] <= self.w:\n",
    "            if self.left is None:\n",
    "                return self.class_type, None\n",
    "            return None, self.left\n",
    "        else:\n",
    "            if self.right is None:\n",
    "                return self.class_type, None\n",
    "            return None, self.right\n",
    "\n",
    "    def move(self, X):\n",
    "        y = []\n",
    "        for xi in X:\n",
    "            res = None\n",
    "            node = self\n",
    "            while res is None:\n",
    "                res, node = node._move(xi)\n",
    "            y.append(res)\n",
    "        return np.array(y)\n",
    "\n",
    "\n",
    "    def set_root(self, root, lorr=0):\n",
    "        if root is not self:\n",
    "            self.root = root\n",
    "        if self.root is not None:\n",
    "            if lorr:\n",
    "                self.root.right = self\n",
    "            else:\n",
    "                self.root.left = self\n",
    "\n",
    "    def set_left(self, l):\n",
    "        self.left = l\n",
    "        self.left.root = self\n",
    "    \n",
    "    def set_right(self, r):\n",
    "        self.right = r\n",
    "        self.right.root = self\n",
    "\n",
    "    def set_both(self, l, r):\n",
    "        self.set_left(l)\n",
    "        self.set_right(r)\n",
    "                    "
   ]
  },
  {
   "cell_type": "code",
   "execution_count": 498,
   "metadata": {},
   "outputs": [],
   "source": [
    "class DecisionTree(torch.nn.Module):\n",
    "    \"\"\"DecisionTree with ID3 algorithm\"\"\"\n",
    "    def __init__(self, *args, **kwargs):\n",
    "        super(DecisionTree, self).__init__(*args, **kwargs)\n",
    "        self.tree = None\n",
    "\n",
    "    def train(self, X, Y, md=3):\n",
    "        # type train\n",
    "        if self.tree is not None:\n",
    "            del self.tree\n",
    "            self.tree = None\n",
    "        rec_list = [(None, X, Y, -1)]\n",
    "        count = 0\n",
    "        while len(rec_list) != 0 and count < md:\n",
    "            \n",
    "            count += 1\n",
    "            x = rec_list[0][1]\n",
    "            y = rec_list[0][2]\n",
    "            node = None\n",
    "            splits = None\n",
    "            h = self.H(y)\n",
    "            if h == 0:\n",
    "                if len(y):\n",
    "                    node = Tree(class_type=y[0])\n",
    "                else:\n",
    "                    node = Tree(class_type=0)\n",
    "            else:\n",
    "                bi, bv = self.find_best_feature(x, y)\n",
    "                node = Tree(w=bv, f_index=bi, class_type=self.max_prob(rec_list[0][2]))\n",
    "                splits = self.split(rec_list[0][1], rec_list[0][2], bi, bv)\n",
    "            node.set_root(rec_list[0][0], rec_list[0][3])\n",
    "            if self.tree is None:\n",
    "                self.tree = node\n",
    "            if splits is not None and len(splits[2]):\n",
    "                rec_list.append((node, splits[0], splits[2], 0))\n",
    "            if splits is not None and len(splits[3]):\n",
    "                rec_list.append((node, splits[1], splits[3], 1))\n",
    "            rec_list.pop(0)\n",
    "                \n",
    "    def max_prob(self, Y):\n",
    "        classes = np.bincount(Y)\n",
    "        prob = classes[np.nonzero(classes)]/len(Y)\n",
    "        maxp = 0\n",
    "        maxp_i = 0\n",
    "        for i, yi in enumerate(prob):  \n",
    "            if yi > maxp:\n",
    "                maxp = yi\n",
    "                maxp_i = i\n",
    "        return maxp_i      \n",
    "\n",
    "    def predict(self, X):\n",
    "        if self.tree is None:\n",
    "            return None\n",
    "        return self.tree.move(X)\n",
    "\n",
    "    def find_best_feature(self, X, Y):\n",
    "        best_index = 0\n",
    "        best_ig = 0\n",
    "        best_val = X[0,0]\n",
    "        for xi in range(X.shape[1]):\n",
    "            val, ig = self.find_best_split(X,Y,xi,ftype=0)\n",
    "            # print(f\"findex: {xi}, val: {val}, IG: {ig}\")\n",
    "            if ig > best_ig:\n",
    "                best_ig = ig\n",
    "                best_index = xi\n",
    "                best_val = val\n",
    "        return best_index, best_val\n",
    "\n",
    "    def find_best_split(self, X, Y, f_index, ftype=0):\n",
    "        split_vals = np.unique(X[:,f_index])\n",
    "        bf_index = 0\n",
    "        bf_val = split_vals[bf_index]\n",
    "        bf_ig = 0\n",
    "        for i, xi in enumerate(split_vals):\n",
    "            xl, xr, yl, yr = self.split(X,Y, f_index, xi, ftype)\n",
    "            ig = self.IG([yl, yr], Y)\n",
    "            # print(f\"atr_index: {xi}, IG: {ig}\")\n",
    "            if ig > bf_ig:\n",
    "                bf_ig = ig\n",
    "                bf_val = xi\n",
    "                bf_index = i\n",
    "        return bf_val, bf_ig\n",
    "\n",
    "    @staticmethod\n",
    "    def split(X,Y, f_index, f_val, ftype=0):\n",
    "        x_l = None\n",
    "        x_r = None\n",
    "        y_l = None\n",
    "        y_r = None\n",
    "        if ftype:\n",
    "            b = X[:, f_index] == f_val\n",
    "            x_l = X[b]\n",
    "            x_r = X[~b]\n",
    "            y_l = Y[b]\n",
    "            y_r = Y[~b]\n",
    "        else:\n",
    "            b = X[:, f_index] <= f_val\n",
    "            x_l = X[b]\n",
    "            x_r = X[~b]\n",
    "            y_l = Y[b]\n",
    "            y_r = Y[~b]\n",
    "            \n",
    "        return x_l, x_r, y_l, y_r\n",
    "\n",
    "    @staticmethod\n",
    "    def H_(Y):\n",
    "        if (len(Y) <= 1):\n",
    "            return 0\n",
    "        classes = np.bincount(Y)\n",
    "        prob = classes[np.nonzero(classes)]/len(Y)\n",
    "        if (len(prob) <= 1):\n",
    "            return 0\n",
    "        return -np.sum(prob*np.log(prob))\n",
    "\n",
    "    @staticmethod\n",
    "    def H(Y):\n",
    "        \"\"\"Entropy function\"\"\"\n",
    "        return DecisionTree.H_(Y)/np.log(2)\n",
    "\n",
    "    @staticmethod\n",
    "    def Hn(Y):\n",
    "        classes = np.bincount(Y)\n",
    "        prob = classes[np.nonzero(classes)]/len(Y)\n",
    "        return DecisionTree.H(Y)*np.log(2)/np.log(len(prob))\n",
    "\n",
    "    @staticmethod\n",
    "    def IG(Y_splits, Y_prev, h=DecisionTree.H):\n",
    "        \"\"\"Information Gain function\"\"\"\n",
    "        cond_H = sum([h(y)*len(y)/len(Y_prev) for y in Y_splits])\n",
    "        return h(Y_prev) - cond_H\n",
    "\n"
   ]
  },
  {
   "cell_type": "code",
   "execution_count": 485,
   "metadata": {},
   "outputs": [
    {
     "output_type": "execute_result",
     "data": {
      "text/plain": [
       "array([0.5       , 0.33333333, 0.16666667])"
      ]
     },
     "metadata": {},
     "execution_count": 485
    }
   ],
   "source": [
    "A = np.arange(0,100,1).reshape(50, 2)\n",
    "B = np.array([0,0,1,1,0,2])\n",
    "c = np.bincount(B)\n",
    "# B[np.nonzero()]\n",
    "c[np.nonzero(c)]/len(B)"
   ]
  },
  {
   "cell_type": "code",
   "execution_count": 499,
   "metadata": {},
   "outputs": [
    {
     "output_type": "execute_result",
     "data": {
      "text/plain": [
       "0.9999999999999998"
      ]
     },
     "metadata": {},
     "execution_count": 499
    }
   ],
   "source": [
    "dt = DecisionTree()\n",
    "py = np.array([0,0,0,1,1,1,2,3])\n",
    "sy = [np.array([0,0,1,1,1]), np.array([2,3,0])]\n",
    "dt.IG(sy, py)\n",
    "# dt.H(py) - (dt.H(sy[0])*len(sy[0])/len(py) + dt.H(sy[1])*len(sy[1])/len(py))\n",
    "\n",
    "dt.Hn(sy[1])"
   ]
  },
  {
   "cell_type": "code",
   "execution_count": 500,
   "metadata": {},
   "outputs": [],
   "source": [
    "A = np.random.randint(0,100, 100).reshape(25,4)\n",
    "Y = np.random.randint(0,3, 25)"
   ]
  },
  {
   "cell_type": "code",
   "execution_count": 511,
   "metadata": {},
   "outputs": [
    {
     "output_type": "stream",
     "name": "stdout",
     "text": [
      "Root: None, w: 6, f_index: 0, left: 0, right: 0\n"
     ]
    }
   ],
   "source": [
    "fi, ig = dt.find_best_feature(A,Y)\n",
    "# print(A, Y)\n",
    "xtr, xte, ytr, yte = A[:20], A[20:], Y[:20], Y[20:]\n",
    "dt.train(xtr, ytr, 13)\n",
    "print(dt.tree)\n",
    "\n",
    "# print(dt.tree.left)\n",
    "# print(dt.tree.right)\n",
    "# print(dt.tree.left.left)\n",
    "# print(dt.tree.left.right)\n",
    "# print(dt.tree.right)"
   ]
  },
  {
   "cell_type": "code",
   "execution_count": 513,
   "metadata": {},
   "outputs": [
    {
     "output_type": "stream",
     "name": "stdout",
     "text": [
      "tac:  95.0\ntest ac:  40.0\n"
     ]
    }
   ],
   "source": [
    "yp = dt.predict(xtr)\n",
    "ypte = dt.predict(xte)\n",
    "print(\"tac: \",sum(yp == ytr)/len(ytr) * 100)\n",
    "print(\"test ac: \", sum(ypte == yte)/len(yte) * 100)\n"
   ]
  },
  {
   "cell_type": "code",
   "execution_count": 523,
   "metadata": {},
   "outputs": [
    {
     "output_type": "display_data",
     "data": {
      "text/plain": "<Figure size 432x288 with 1 Axes>",
      "image/svg+xml": "<?xml version=\"1.0\" encoding=\"utf-8\" standalone=\"no\"?>\r\n<!DOCTYPE svg PUBLIC \"-//W3C//DTD SVG 1.1//EN\"\r\n  \"http://www.w3.org/Graphics/SVG/1.1/DTD/svg11.dtd\">\r\n<!-- Created with matplotlib (https://matplotlib.org/) -->\r\n<svg height=\"248.580804pt\" version=\"1.1\" viewBox=\"0 0 382.533236 248.580804\" width=\"382.533236pt\" xmlns=\"http://www.w3.org/2000/svg\" xmlns:xlink=\"http://www.w3.org/1999/xlink\">\r\n <defs>\r\n  <style type=\"text/css\">\r\n*{stroke-linecap:butt;stroke-linejoin:round;}\r\n  </style>\r\n </defs>\r\n <g id=\"figure_1\">\r\n  <g id=\"patch_1\">\r\n   <path d=\"M 0 248.580804 \r\nL 382.533236 248.580804 \r\nL 382.533236 0 \r\nL 0 0 \r\nz\r\n\" style=\"fill:none;\"/>\r\n  </g>\r\n  <g id=\"axes_1\">\r\n   <g id=\"patch_2\">\r\n    <path d=\"M 33.2875 224.702679 \r\nL 368.0875 224.702679 \r\nL 368.0875 7.262679 \r\nL 33.2875 7.262679 \r\nz\r\n\" style=\"fill:#ffffff;\"/>\r\n   </g>\r\n   <g id=\"PathCollection_1\">\r\n    <defs>\r\n     <path d=\"M 0 3 \r\nC 0.795609 3 1.55874 2.683901 2.12132 2.12132 \r\nC 2.683901 1.55874 3 0.795609 3 0 \r\nC 3 -0.795609 2.683901 -1.55874 2.12132 -2.12132 \r\nC 1.55874 -2.683901 0.795609 -3 0 -3 \r\nC -0.795609 -3 -1.55874 -2.683901 -2.12132 -2.12132 \r\nC -2.683901 -1.55874 -3 -0.795609 -3 0 \r\nC -3 0.795609 -2.683901 1.55874 -2.12132 2.12132 \r\nC -1.55874 2.683901 -0.795609 3 0 3 \r\nz\r\n\" id=\"C0_0_a0e6b8b8b5\"/>\r\n    </defs>\r\n    <g clip-path=\"url(#p4908642c32)\">\r\n     <use style=\"fill:#fde725;stroke:#fde725;\" x=\"80.907628\" xlink:href=\"#C0_0_a0e6b8b8b5\" y=\"148.918667\"/>\r\n    </g>\r\n    <g clip-path=\"url(#p4908642c32)\">\r\n     <use style=\"fill:#21918c;stroke:#21918c;\" x=\"158.60268\" xlink:href=\"#C0_0_a0e6b8b8b5\" y=\"70.695696\"/>\r\n    </g>\r\n    <g clip-path=\"url(#p4908642c32)\">\r\n     <use style=\"fill:#440154;stroke:#440154;\" x=\"93.856803\" xlink:href=\"#C0_0_a0e6b8b8b5\" y=\"138.626171\"/>\r\n    </g>\r\n    <g clip-path=\"url(#p4908642c32)\">\r\n     <use style=\"fill:#21918c;stroke:#21918c;\" x=\"291.331727\" xlink:href=\"#C0_0_a0e6b8b8b5\" y=\"66.578698\"/>\r\n    </g>\r\n    <g clip-path=\"url(#p4908642c32)\">\r\n     <use style=\"fill:#fde725;stroke:#fde725;\" x=\"194.212912\" xlink:href=\"#C0_0_a0e6b8b8b5\" y=\"99.514685\"/>\r\n    </g>\r\n    <g clip-path=\"url(#p4908642c32)\">\r\n     <use style=\"fill:#21918c;stroke:#21918c;\" x=\"352.84031\" xlink:href=\"#C0_0_a0e6b8b8b5\" y=\"179.796155\"/>\r\n    </g>\r\n    <g clip-path=\"url(#p4908642c32)\">\r\n     <use style=\"fill:#fde725;stroke:#fde725;\" x=\"80.907628\" xlink:href=\"#C0_0_a0e6b8b8b5\" y=\"140.68467\"/>\r\n    </g>\r\n    <g clip-path=\"url(#p4908642c32)\">\r\n     <use style=\"fill:#440154;stroke:#440154;\" x=\"171.551855\" xlink:href=\"#C0_0_a0e6b8b8b5\" y=\"130.392174\"/>\r\n    </g>\r\n    <g clip-path=\"url(#p4908642c32)\">\r\n     <use style=\"fill:#21918c;stroke:#21918c;\" x=\"48.53469\" xlink:href=\"#C0_0_a0e6b8b8b5\" y=\"58.344701\"/>\r\n    </g>\r\n    <g clip-path=\"url(#p4908642c32)\">\r\n     <use style=\"fill:#440154;stroke:#440154;\" x=\"268.670671\" xlink:href=\"#C0_0_a0e6b8b8b5\" y=\"212.732143\"/>\r\n    </g>\r\n    <g clip-path=\"url(#p4908642c32)\">\r\n     <use style=\"fill:#fde725;stroke:#fde725;\" x=\"226.585851\" xlink:href=\"#C0_0_a0e6b8b8b5\" y=\"45.993706\"/>\r\n    </g>\r\n    <g clip-path=\"url(#p4908642c32)\">\r\n     <use style=\"fill:#fde725;stroke:#fde725;\" x=\"200.6875\" xlink:href=\"#C0_0_a0e6b8b8b5\" y=\"60.4032\"/>\r\n    </g>\r\n    <g clip-path=\"url(#p4908642c32)\">\r\n     <use style=\"fill:#21918c;stroke:#21918c;\" x=\"307.518197\" xlink:href=\"#C0_0_a0e6b8b8b5\" y=\"95.397687\"/>\r\n    </g>\r\n    <g clip-path=\"url(#p4908642c32)\">\r\n     <use style=\"fill:#21918c;stroke:#21918c;\" x=\"61.483865\" xlink:href=\"#C0_0_a0e6b8b8b5\" y=\"17.174716\"/>\r\n    </g>\r\n    <g clip-path=\"url(#p4908642c32)\">\r\n     <use style=\"fill:#21918c;stroke:#21918c;\" x=\"55.009277\" xlink:href=\"#C0_0_a0e6b8b8b5\" y=\"138.626171\"/>\r\n    </g>\r\n    <g clip-path=\"url(#p4908642c32)\">\r\n     <use style=\"fill:#fde725;stroke:#fde725;\" x=\"184.501031\" xlink:href=\"#C0_0_a0e6b8b8b5\" y=\"138.626171\"/>\r\n    </g>\r\n    <g clip-path=\"url(#p4908642c32)\">\r\n     <use style=\"fill:#fde725;stroke:#fde725;\" x=\"181.263737\" xlink:href=\"#C0_0_a0e6b8b8b5\" y=\"214.790642\"/>\r\n    </g>\r\n    <g clip-path=\"url(#p4908642c32)\">\r\n     <use style=\"fill:#440154;stroke:#440154;\" x=\"122.992448\" xlink:href=\"#C0_0_a0e6b8b8b5\" y=\"188.030152\"/>\r\n    </g>\r\n    <g clip-path=\"url(#p4908642c32)\">\r\n     <use style=\"fill:#21918c;stroke:#21918c;\" x=\"174.789149\" xlink:href=\"#C0_0_a0e6b8b8b5\" y=\"181.854654\"/>\r\n    </g>\r\n    <g clip-path=\"url(#p4908642c32)\">\r\n     <use style=\"fill:#440154;stroke:#440154;\" x=\"87.382216\" xlink:href=\"#C0_0_a0e6b8b8b5\" y=\"54.227702\"/>\r\n    </g>\r\n   </g>\r\n   <g id=\"PathCollection_2\">\r\n    <defs>\r\n     <path d=\"M 0 -3 \r\nL -3 3 \r\nL 3 3 \r\nz\r\n\" id=\"m85746c70ec\" style=\"stroke:#ff0000;\"/>\r\n    </defs>\r\n    <g clip-path=\"url(#p4908642c32)\">\r\n     <use style=\"fill:#ff0000;stroke:#ff0000;\" x=\"84.144922\" xlink:href=\"#m85746c70ec\" y=\"181.854654\"/>\r\n     <use style=\"fill:#ff0000;stroke:#ff0000;\" x=\"184.501031\" xlink:href=\"#m85746c70ec\" y=\"134.509172\"/>\r\n     <use style=\"fill:#ff0000;stroke:#ff0000;\" x=\"61.483865\" xlink:href=\"#m85746c70ec\" y=\"146.860167\"/>\r\n     <use style=\"fill:#ff0000;stroke:#ff0000;\" x=\"84.144922\" xlink:href=\"#m85746c70ec\" y=\"109.807181\"/>\r\n     <use style=\"fill:#ff0000;stroke:#ff0000;\" x=\"343.128429\" xlink:href=\"#m85746c70ec\" y=\"171.562158\"/>\r\n    </g>\r\n   </g>\r\n   <g id=\"matplotlib.axis_1\">\r\n    <g id=\"xtick_1\">\r\n     <g id=\"line2d_1\">\r\n      <defs>\r\n       <path d=\"M 0 0 \r\nL 0 3.5 \r\n\" id=\"m2705011aec\" style=\"stroke:#000000;stroke-width:0.8;\"/>\r\n      </defs>\r\n      <g>\r\n       <use style=\"stroke:#000000;stroke-width:0.8;\" x=\"42.060102\" xlink:href=\"#m2705011aec\" y=\"224.702679\"/>\r\n      </g>\r\n     </g>\r\n     <g id=\"text_1\">\r\n      <!-- 0 -->\r\n      <defs>\r\n       <path d=\"M 31.78125 66.40625 \r\nQ 24.171875 66.40625 20.328125 58.90625 \r\nQ 16.5 51.421875 16.5 36.375 \r\nQ 16.5 21.390625 20.328125 13.890625 \r\nQ 24.171875 6.390625 31.78125 6.390625 \r\nQ 39.453125 6.390625 43.28125 13.890625 \r\nQ 47.125 21.390625 47.125 36.375 \r\nQ 47.125 51.421875 43.28125 58.90625 \r\nQ 39.453125 66.40625 31.78125 66.40625 \r\nz\r\nM 31.78125 74.21875 \r\nQ 44.046875 74.21875 50.515625 64.515625 \r\nQ 56.984375 54.828125 56.984375 36.375 \r\nQ 56.984375 17.96875 50.515625 8.265625 \r\nQ 44.046875 -1.421875 31.78125 -1.421875 \r\nQ 19.53125 -1.421875 13.0625 8.265625 \r\nQ 6.59375 17.96875 6.59375 36.375 \r\nQ 6.59375 54.828125 13.0625 64.515625 \r\nQ 19.53125 74.21875 31.78125 74.21875 \r\nz\r\n\" id=\"DejaVuSans-48\"/>\r\n      </defs>\r\n      <g transform=\"translate(38.878852 239.301117)scale(0.1 -0.1)\">\r\n       <use xlink:href=\"#DejaVuSans-48\"/>\r\n      </g>\r\n     </g>\r\n    </g>\r\n    <g id=\"xtick_2\">\r\n     <g id=\"line2d_2\">\r\n      <g>\r\n       <use style=\"stroke:#000000;stroke-width:0.8;\" x=\"106.805979\" xlink:href=\"#m2705011aec\" y=\"224.702679\"/>\r\n      </g>\r\n     </g>\r\n     <g id=\"text_2\">\r\n      <!-- 20 -->\r\n      <defs>\r\n       <path d=\"M 19.1875 8.296875 \r\nL 53.609375 8.296875 \r\nL 53.609375 0 \r\nL 7.328125 0 \r\nL 7.328125 8.296875 \r\nQ 12.9375 14.109375 22.625 23.890625 \r\nQ 32.328125 33.6875 34.8125 36.53125 \r\nQ 39.546875 41.84375 41.421875 45.53125 \r\nQ 43.3125 49.21875 43.3125 52.78125 \r\nQ 43.3125 58.59375 39.234375 62.25 \r\nQ 35.15625 65.921875 28.609375 65.921875 \r\nQ 23.96875 65.921875 18.8125 64.3125 \r\nQ 13.671875 62.703125 7.8125 59.421875 \r\nL 7.8125 69.390625 \r\nQ 13.765625 71.78125 18.9375 73 \r\nQ 24.125 74.21875 28.421875 74.21875 \r\nQ 39.75 74.21875 46.484375 68.546875 \r\nQ 53.21875 62.890625 53.21875 53.421875 \r\nQ 53.21875 48.921875 51.53125 44.890625 \r\nQ 49.859375 40.875 45.40625 35.40625 \r\nQ 44.1875 33.984375 37.640625 27.21875 \r\nQ 31.109375 20.453125 19.1875 8.296875 \r\nz\r\n\" id=\"DejaVuSans-50\"/>\r\n      </defs>\r\n      <g transform=\"translate(100.443479 239.301117)scale(0.1 -0.1)\">\r\n       <use xlink:href=\"#DejaVuSans-50\"/>\r\n       <use x=\"63.623047\" xlink:href=\"#DejaVuSans-48\"/>\r\n      </g>\r\n     </g>\r\n    </g>\r\n    <g id=\"xtick_3\">\r\n     <g id=\"line2d_3\">\r\n      <g>\r\n       <use style=\"stroke:#000000;stroke-width:0.8;\" x=\"171.551855\" xlink:href=\"#m2705011aec\" y=\"224.702679\"/>\r\n      </g>\r\n     </g>\r\n     <g id=\"text_3\">\r\n      <!-- 40 -->\r\n      <defs>\r\n       <path d=\"M 37.796875 64.3125 \r\nL 12.890625 25.390625 \r\nL 37.796875 25.390625 \r\nz\r\nM 35.203125 72.90625 \r\nL 47.609375 72.90625 \r\nL 47.609375 25.390625 \r\nL 58.015625 25.390625 \r\nL 58.015625 17.1875 \r\nL 47.609375 17.1875 \r\nL 47.609375 0 \r\nL 37.796875 0 \r\nL 37.796875 17.1875 \r\nL 4.890625 17.1875 \r\nL 4.890625 26.703125 \r\nz\r\n\" id=\"DejaVuSans-52\"/>\r\n      </defs>\r\n      <g transform=\"translate(165.189355 239.301117)scale(0.1 -0.1)\">\r\n       <use xlink:href=\"#DejaVuSans-52\"/>\r\n       <use x=\"63.623047\" xlink:href=\"#DejaVuSans-48\"/>\r\n      </g>\r\n     </g>\r\n    </g>\r\n    <g id=\"xtick_4\">\r\n     <g id=\"line2d_4\">\r\n      <g>\r\n       <use style=\"stroke:#000000;stroke-width:0.8;\" x=\"236.297732\" xlink:href=\"#m2705011aec\" y=\"224.702679\"/>\r\n      </g>\r\n     </g>\r\n     <g id=\"text_4\">\r\n      <!-- 60 -->\r\n      <defs>\r\n       <path d=\"M 33.015625 40.375 \r\nQ 26.375 40.375 22.484375 35.828125 \r\nQ 18.609375 31.296875 18.609375 23.390625 \r\nQ 18.609375 15.53125 22.484375 10.953125 \r\nQ 26.375 6.390625 33.015625 6.390625 \r\nQ 39.65625 6.390625 43.53125 10.953125 \r\nQ 47.40625 15.53125 47.40625 23.390625 \r\nQ 47.40625 31.296875 43.53125 35.828125 \r\nQ 39.65625 40.375 33.015625 40.375 \r\nz\r\nM 52.59375 71.296875 \r\nL 52.59375 62.3125 \r\nQ 48.875 64.0625 45.09375 64.984375 \r\nQ 41.3125 65.921875 37.59375 65.921875 \r\nQ 27.828125 65.921875 22.671875 59.328125 \r\nQ 17.53125 52.734375 16.796875 39.40625 \r\nQ 19.671875 43.65625 24.015625 45.921875 \r\nQ 28.375 48.1875 33.59375 48.1875 \r\nQ 44.578125 48.1875 50.953125 41.515625 \r\nQ 57.328125 34.859375 57.328125 23.390625 \r\nQ 57.328125 12.15625 50.6875 5.359375 \r\nQ 44.046875 -1.421875 33.015625 -1.421875 \r\nQ 20.359375 -1.421875 13.671875 8.265625 \r\nQ 6.984375 17.96875 6.984375 36.375 \r\nQ 6.984375 53.65625 15.1875 63.9375 \r\nQ 23.390625 74.21875 37.203125 74.21875 \r\nQ 40.921875 74.21875 44.703125 73.484375 \r\nQ 48.484375 72.75 52.59375 71.296875 \r\nz\r\n\" id=\"DejaVuSans-54\"/>\r\n      </defs>\r\n      <g transform=\"translate(229.935232 239.301117)scale(0.1 -0.1)\">\r\n       <use xlink:href=\"#DejaVuSans-54\"/>\r\n       <use x=\"63.623047\" xlink:href=\"#DejaVuSans-48\"/>\r\n      </g>\r\n     </g>\r\n    </g>\r\n    <g id=\"xtick_5\">\r\n     <g id=\"line2d_5\">\r\n      <g>\r\n       <use style=\"stroke:#000000;stroke-width:0.8;\" x=\"301.043609\" xlink:href=\"#m2705011aec\" y=\"224.702679\"/>\r\n      </g>\r\n     </g>\r\n     <g id=\"text_5\">\r\n      <!-- 80 -->\r\n      <defs>\r\n       <path d=\"M 31.78125 34.625 \r\nQ 24.75 34.625 20.71875 30.859375 \r\nQ 16.703125 27.09375 16.703125 20.515625 \r\nQ 16.703125 13.921875 20.71875 10.15625 \r\nQ 24.75 6.390625 31.78125 6.390625 \r\nQ 38.8125 6.390625 42.859375 10.171875 \r\nQ 46.921875 13.96875 46.921875 20.515625 \r\nQ 46.921875 27.09375 42.890625 30.859375 \r\nQ 38.875 34.625 31.78125 34.625 \r\nz\r\nM 21.921875 38.8125 \r\nQ 15.578125 40.375 12.03125 44.71875 \r\nQ 8.5 49.078125 8.5 55.328125 \r\nQ 8.5 64.0625 14.71875 69.140625 \r\nQ 20.953125 74.21875 31.78125 74.21875 \r\nQ 42.671875 74.21875 48.875 69.140625 \r\nQ 55.078125 64.0625 55.078125 55.328125 \r\nQ 55.078125 49.078125 51.53125 44.71875 \r\nQ 48 40.375 41.703125 38.8125 \r\nQ 48.828125 37.15625 52.796875 32.3125 \r\nQ 56.78125 27.484375 56.78125 20.515625 \r\nQ 56.78125 9.90625 50.3125 4.234375 \r\nQ 43.84375 -1.421875 31.78125 -1.421875 \r\nQ 19.734375 -1.421875 13.25 4.234375 \r\nQ 6.78125 9.90625 6.78125 20.515625 \r\nQ 6.78125 27.484375 10.78125 32.3125 \r\nQ 14.796875 37.15625 21.921875 38.8125 \r\nz\r\nM 18.3125 54.390625 \r\nQ 18.3125 48.734375 21.84375 45.5625 \r\nQ 25.390625 42.390625 31.78125 42.390625 \r\nQ 38.140625 42.390625 41.71875 45.5625 \r\nQ 45.3125 48.734375 45.3125 54.390625 \r\nQ 45.3125 60.0625 41.71875 63.234375 \r\nQ 38.140625 66.40625 31.78125 66.40625 \r\nQ 25.390625 66.40625 21.84375 63.234375 \r\nQ 18.3125 60.0625 18.3125 54.390625 \r\nz\r\n\" id=\"DejaVuSans-56\"/>\r\n      </defs>\r\n      <g transform=\"translate(294.681109 239.301117)scale(0.1 -0.1)\">\r\n       <use xlink:href=\"#DejaVuSans-56\"/>\r\n       <use x=\"63.623047\" xlink:href=\"#DejaVuSans-48\"/>\r\n      </g>\r\n     </g>\r\n    </g>\r\n    <g id=\"xtick_6\">\r\n     <g id=\"line2d_6\">\r\n      <g>\r\n       <use style=\"stroke:#000000;stroke-width:0.8;\" x=\"365.789486\" xlink:href=\"#m2705011aec\" y=\"224.702679\"/>\r\n      </g>\r\n     </g>\r\n     <g id=\"text_6\">\r\n      <!-- 100 -->\r\n      <defs>\r\n       <path d=\"M 12.40625 8.296875 \r\nL 28.515625 8.296875 \r\nL 28.515625 63.921875 \r\nL 10.984375 60.40625 \r\nL 10.984375 69.390625 \r\nL 28.421875 72.90625 \r\nL 38.28125 72.90625 \r\nL 38.28125 8.296875 \r\nL 54.390625 8.296875 \r\nL 54.390625 0 \r\nL 12.40625 0 \r\nz\r\n\" id=\"DejaVuSans-49\"/>\r\n      </defs>\r\n      <g transform=\"translate(356.245736 239.301117)scale(0.1 -0.1)\">\r\n       <use xlink:href=\"#DejaVuSans-49\"/>\r\n       <use x=\"63.623047\" xlink:href=\"#DejaVuSans-48\"/>\r\n       <use x=\"127.246094\" xlink:href=\"#DejaVuSans-48\"/>\r\n      </g>\r\n     </g>\r\n    </g>\r\n   </g>\r\n   <g id=\"matplotlib.axis_2\">\r\n    <g id=\"ytick_1\">\r\n     <g id=\"line2d_7\">\r\n      <defs>\r\n       <path d=\"M 0 0 \r\nL -3.5 0 \r\n\" id=\"m89bee1f75d\" style=\"stroke:#000000;stroke-width:0.8;\"/>\r\n      </defs>\r\n      <g>\r\n       <use style=\"stroke:#000000;stroke-width:0.8;\" x=\"33.2875\" xlink:href=\"#m89bee1f75d\" y=\"216.849141\"/>\r\n      </g>\r\n     </g>\r\n     <g id=\"text_7\">\r\n      <!-- 0 -->\r\n      <g transform=\"translate(19.925 220.64836)scale(0.1 -0.1)\">\r\n       <use xlink:href=\"#DejaVuSans-48\"/>\r\n      </g>\r\n     </g>\r\n    </g>\r\n    <g id=\"ytick_2\">\r\n     <g id=\"line2d_8\">\r\n      <g>\r\n       <use style=\"stroke:#000000;stroke-width:0.8;\" x=\"33.2875\" xlink:href=\"#m89bee1f75d\" y=\"175.679157\"/>\r\n      </g>\r\n     </g>\r\n     <g id=\"text_8\">\r\n      <!-- 20 -->\r\n      <g transform=\"translate(13.5625 179.478375)scale(0.1 -0.1)\">\r\n       <use xlink:href=\"#DejaVuSans-50\"/>\r\n       <use x=\"63.623047\" xlink:href=\"#DejaVuSans-48\"/>\r\n      </g>\r\n     </g>\r\n    </g>\r\n    <g id=\"ytick_3\">\r\n     <g id=\"line2d_9\">\r\n      <g>\r\n       <use style=\"stroke:#000000;stroke-width:0.8;\" x=\"33.2875\" xlink:href=\"#m89bee1f75d\" y=\"134.509172\"/>\r\n      </g>\r\n     </g>\r\n     <g id=\"text_9\">\r\n      <!-- 40 -->\r\n      <g transform=\"translate(13.5625 138.308391)scale(0.1 -0.1)\">\r\n       <use xlink:href=\"#DejaVuSans-52\"/>\r\n       <use x=\"63.623047\" xlink:href=\"#DejaVuSans-48\"/>\r\n      </g>\r\n     </g>\r\n    </g>\r\n    <g id=\"ytick_4\">\r\n     <g id=\"line2d_10\">\r\n      <g>\r\n       <use style=\"stroke:#000000;stroke-width:0.8;\" x=\"33.2875\" xlink:href=\"#m89bee1f75d\" y=\"93.339188\"/>\r\n      </g>\r\n     </g>\r\n     <g id=\"text_10\">\r\n      <!-- 60 -->\r\n      <g transform=\"translate(13.5625 97.138406)scale(0.1 -0.1)\">\r\n       <use xlink:href=\"#DejaVuSans-54\"/>\r\n       <use x=\"63.623047\" xlink:href=\"#DejaVuSans-48\"/>\r\n      </g>\r\n     </g>\r\n    </g>\r\n    <g id=\"ytick_5\">\r\n     <g id=\"line2d_11\">\r\n      <g>\r\n       <use style=\"stroke:#000000;stroke-width:0.8;\" x=\"33.2875\" xlink:href=\"#m89bee1f75d\" y=\"52.169203\"/>\r\n      </g>\r\n     </g>\r\n     <g id=\"text_11\">\r\n      <!-- 80 -->\r\n      <g transform=\"translate(13.5625 55.968422)scale(0.1 -0.1)\">\r\n       <use xlink:href=\"#DejaVuSans-56\"/>\r\n       <use x=\"63.623047\" xlink:href=\"#DejaVuSans-48\"/>\r\n      </g>\r\n     </g>\r\n    </g>\r\n    <g id=\"ytick_6\">\r\n     <g id=\"line2d_12\">\r\n      <g>\r\n       <use style=\"stroke:#000000;stroke-width:0.8;\" x=\"33.2875\" xlink:href=\"#m89bee1f75d\" y=\"10.999219\"/>\r\n      </g>\r\n     </g>\r\n     <g id=\"text_12\">\r\n      <!-- 100 -->\r\n      <g transform=\"translate(7.2 14.798437)scale(0.1 -0.1)\">\r\n       <use xlink:href=\"#DejaVuSans-49\"/>\r\n       <use x=\"63.623047\" xlink:href=\"#DejaVuSans-48\"/>\r\n       <use x=\"127.246094\" xlink:href=\"#DejaVuSans-48\"/>\r\n      </g>\r\n     </g>\r\n    </g>\r\n   </g>\r\n   <g id=\"patch_3\">\r\n    <path d=\"M 33.2875 224.702679 \r\nL 33.2875 7.262679 \r\n\" style=\"fill:none;stroke:#000000;stroke-linecap:square;stroke-linejoin:miter;stroke-width:0.8;\"/>\r\n   </g>\r\n   <g id=\"patch_4\">\r\n    <path d=\"M 368.0875 224.702679 \r\nL 368.0875 7.262679 \r\n\" style=\"fill:none;stroke:#000000;stroke-linecap:square;stroke-linejoin:miter;stroke-width:0.8;\"/>\r\n   </g>\r\n   <g id=\"patch_5\">\r\n    <path d=\"M 33.2875 224.702679 \r\nL 368.0875 224.702679 \r\n\" style=\"fill:none;stroke:#000000;stroke-linecap:square;stroke-linejoin:miter;stroke-width:0.8;\"/>\r\n   </g>\r\n   <g id=\"patch_6\">\r\n    <path d=\"M 33.2875 7.262679 \r\nL 368.0875 7.262679 \r\n\" style=\"fill:none;stroke:#000000;stroke-linecap:square;stroke-linejoin:miter;stroke-width:0.8;\"/>\r\n   </g>\r\n  </g>\r\n </g>\r\n <defs>\r\n  <clipPath id=\"p4908642c32\">\r\n   <rect height=\"217.44\" width=\"334.8\" x=\"33.2875\" y=\"7.262679\"/>\r\n  </clipPath>\r\n </defs>\r\n</svg>\r\n",
      "image/png": "[encoded data removed]"
     },
     "metadata": {
      "needs_background": "light"
     }
    }
   ],
   "source": [
    "plt.scatter(xtr[:,0], xtr[:,1], c=ytr)\n",
    "plt.scatter(xte[:,0], xte[:,1], marker='^', c='r')\n",
    "plt.savefig(\"DecisionTree_on_random_data_train_test_datas.png\", dpi=150)"
   ]
  },
  {
   "cell_type": "code",
   "execution_count": 525,
   "metadata": {},
   "outputs": [
    {
     "output_type": "display_data",
     "data": {
      "text/plain": "<Figure size 432x288 with 1 Axes>",
      "image/svg+xml": "<?xml version=\"1.0\" encoding=\"utf-8\" standalone=\"no\"?>\r\n<!DOCTYPE svg PUBLIC \"-//W3C//DTD SVG 1.1//EN\"\r\n  \"http://www.w3.org/Graphics/SVG/1.1/DTD/svg11.dtd\">\r\n<!-- Created with matplotlib (https://matplotlib.org/) -->\r\n<svg height=\"248.580804pt\" version=\"1.1\" viewBox=\"0 0 382.533236 248.580804\" width=\"382.533236pt\" xmlns=\"http://www.w3.org/2000/svg\" xmlns:xlink=\"http://www.w3.org/1999/xlink\">\r\n <defs>\r\n  <style type=\"text/css\">\r\n*{stroke-linecap:butt;stroke-linejoin:round;}\r\n  </style>\r\n </defs>\r\n <g id=\"figure_1\">\r\n  <g id=\"patch_1\">\r\n   <path d=\"M 0 248.580804 \r\nL 382.533236 248.580804 \r\nL 382.533236 0 \r\nL 0 0 \r\nz\r\n\" style=\"fill:none;\"/>\r\n  </g>\r\n  <g id=\"axes_1\">\r\n   <g id=\"patch_2\">\r\n    <path d=\"M 33.2875 224.702679 \r\nL 368.0875 224.702679 \r\nL 368.0875 7.262679 \r\nL 33.2875 7.262679 \r\nz\r\n\" style=\"fill:#ffffff;\"/>\r\n   </g>\r\n   <g id=\"PathCollection_1\">\r\n    <defs>\r\n     <path d=\"M 0 3 \r\nC 0.795609 3 1.55874 2.683901 2.12132 2.12132 \r\nC 2.683901 1.55874 3 0.795609 3 0 \r\nC 3 -0.795609 2.683901 -1.55874 2.12132 -2.12132 \r\nC 1.55874 -2.683901 0.795609 -3 0 -3 \r\nC -0.795609 -3 -1.55874 -2.683901 -2.12132 -2.12132 \r\nC -2.683901 -1.55874 -3 -0.795609 -3 0 \r\nC -3 0.795609 -2.683901 1.55874 -2.12132 2.12132 \r\nC -1.55874 2.683901 -0.795609 3 0 3 \r\nz\r\n\" id=\"C0_0_bcad252733\"/>\r\n    </defs>\r\n    <g clip-path=\"url(#p3c1763f74c)\">\r\n     <use style=\"fill:#fde725;stroke:#fde725;\" x=\"80.907628\" xlink:href=\"#C0_0_bcad252733\" y=\"148.918667\"/>\r\n    </g>\r\n    <g clip-path=\"url(#p3c1763f74c)\">\r\n     <use style=\"fill:#fde725;stroke:#fde725;\" x=\"158.60268\" xlink:href=\"#C0_0_bcad252733\" y=\"70.695696\"/>\r\n    </g>\r\n    <g clip-path=\"url(#p3c1763f74c)\">\r\n     <use style=\"fill:#fde725;stroke:#fde725;\" x=\"93.856803\" xlink:href=\"#C0_0_bcad252733\" y=\"138.626171\"/>\r\n    </g>\r\n    <g clip-path=\"url(#p3c1763f74c)\">\r\n     <use style=\"fill:#fde725;stroke:#fde725;\" x=\"291.331727\" xlink:href=\"#C0_0_bcad252733\" y=\"66.578698\"/>\r\n    </g>\r\n    <g clip-path=\"url(#p3c1763f74c)\">\r\n     <use style=\"fill:#fde725;stroke:#fde725;\" x=\"194.212912\" xlink:href=\"#C0_0_bcad252733\" y=\"99.514685\"/>\r\n    </g>\r\n    <g clip-path=\"url(#p3c1763f74c)\">\r\n     <use style=\"fill:#fde725;stroke:#fde725;\" x=\"352.84031\" xlink:href=\"#C0_0_bcad252733\" y=\"179.796155\"/>\r\n    </g>\r\n    <g clip-path=\"url(#p3c1763f74c)\">\r\n     <use style=\"fill:#fde725;stroke:#fde725;\" x=\"80.907628\" xlink:href=\"#C0_0_bcad252733\" y=\"140.68467\"/>\r\n    </g>\r\n    <g clip-path=\"url(#p3c1763f74c)\">\r\n     <use style=\"fill:#440154;stroke:#440154;\" x=\"171.551855\" xlink:href=\"#C0_0_bcad252733\" y=\"130.392174\"/>\r\n    </g>\r\n    <g clip-path=\"url(#p3c1763f74c)\">\r\n     <use style=\"fill:#fde725;stroke:#fde725;\" x=\"48.53469\" xlink:href=\"#C0_0_bcad252733\" y=\"58.344701\"/>\r\n    </g>\r\n    <g clip-path=\"url(#p3c1763f74c)\">\r\n     <use style=\"fill:#fde725;stroke:#fde725;\" x=\"268.670671\" xlink:href=\"#C0_0_bcad252733\" y=\"212.732143\"/>\r\n    </g>\r\n    <g clip-path=\"url(#p3c1763f74c)\">\r\n     <use style=\"fill:#fde725;stroke:#fde725;\" x=\"226.585851\" xlink:href=\"#C0_0_bcad252733\" y=\"45.993706\"/>\r\n    </g>\r\n    <g clip-path=\"url(#p3c1763f74c)\">\r\n     <use style=\"fill:#fde725;stroke:#fde725;\" x=\"200.6875\" xlink:href=\"#C0_0_bcad252733\" y=\"60.4032\"/>\r\n    </g>\r\n    <g clip-path=\"url(#p3c1763f74c)\">\r\n     <use style=\"fill:#fde725;stroke:#fde725;\" x=\"307.518197\" xlink:href=\"#C0_0_bcad252733\" y=\"95.397687\"/>\r\n    </g>\r\n    <g clip-path=\"url(#p3c1763f74c)\">\r\n     <use style=\"fill:#fde725;stroke:#fde725;\" x=\"61.483865\" xlink:href=\"#C0_0_bcad252733\" y=\"17.174716\"/>\r\n    </g>\r\n    <g clip-path=\"url(#p3c1763f74c)\">\r\n     <use style=\"fill:#fde725;stroke:#fde725;\" x=\"55.009277\" xlink:href=\"#C0_0_bcad252733\" y=\"138.626171\"/>\r\n    </g>\r\n    <g clip-path=\"url(#p3c1763f74c)\">\r\n     <use style=\"fill:#fde725;stroke:#fde725;\" x=\"184.501031\" xlink:href=\"#C0_0_bcad252733\" y=\"138.626171\"/>\r\n    </g>\r\n    <g clip-path=\"url(#p3c1763f74c)\">\r\n     <use style=\"fill:#fde725;stroke:#fde725;\" x=\"181.263737\" xlink:href=\"#C0_0_bcad252733\" y=\"214.790642\"/>\r\n    </g>\r\n    <g clip-path=\"url(#p3c1763f74c)\">\r\n     <use style=\"fill:#fde725;stroke:#fde725;\" x=\"122.992448\" xlink:href=\"#C0_0_bcad252733\" y=\"188.030152\"/>\r\n    </g>\r\n    <g clip-path=\"url(#p3c1763f74c)\">\r\n     <use style=\"fill:#fde725;stroke:#fde725;\" x=\"174.789149\" xlink:href=\"#C0_0_bcad252733\" y=\"181.854654\"/>\r\n    </g>\r\n    <g clip-path=\"url(#p3c1763f74c)\">\r\n     <use style=\"fill:#fde725;stroke:#fde725;\" x=\"87.382216\" xlink:href=\"#C0_0_bcad252733\" y=\"54.227702\"/>\r\n    </g>\r\n   </g>\r\n   <g id=\"PathCollection_2\">\r\n    <path clip-path=\"url(#p3c1763f74c)\" d=\"M 84.144922 178.854654 \r\nL 81.144922 184.854654 \r\nL 87.144922 184.854654 \r\nz\r\n\" style=\"fill:#fde725;stroke:#fde725;\"/>\r\n    <path clip-path=\"url(#p3c1763f74c)\" d=\"M 184.501031 131.509172 \r\nL 181.501031 137.509172 \r\nL 187.501031 137.509172 \r\nz\r\n\" style=\"fill:#440154;stroke:#440154;\"/>\r\n    <path clip-path=\"url(#p3c1763f74c)\" d=\"M 61.483865 143.860167 \r\nL 58.483865 149.860167 \r\nL 64.483865 149.860167 \r\nz\r\n\" style=\"fill:#fde725;stroke:#fde725;\"/>\r\n    <path clip-path=\"url(#p3c1763f74c)\" d=\"M 84.144922 106.807181 \r\nL 81.144922 112.807181 \r\nL 87.144922 112.807181 \r\nz\r\n\" style=\"fill:#440154;stroke:#440154;\"/>\r\n    <path clip-path=\"url(#p3c1763f74c)\" d=\"M 343.128429 168.562158 \r\nL 340.128429 174.562158 \r\nL 346.128429 174.562158 \r\nz\r\n\" style=\"fill:#440154;stroke:#440154;\"/>\r\n   </g>\r\n   <g id=\"matplotlib.axis_1\">\r\n    <g id=\"xtick_1\">\r\n     <g id=\"line2d_1\">\r\n      <defs>\r\n       <path d=\"M 0 0 \r\nL 0 3.5 \r\n\" id=\"m3e0b26ff9c\" style=\"stroke:#000000;stroke-width:0.8;\"/>\r\n      </defs>\r\n      <g>\r\n       <use style=\"stroke:#000000;stroke-width:0.8;\" x=\"42.060102\" xlink:href=\"#m3e0b26ff9c\" y=\"224.702679\"/>\r\n      </g>\r\n     </g>\r\n     <g id=\"text_1\">\r\n      <!-- 0 -->\r\n      <defs>\r\n       <path d=\"M 31.78125 66.40625 \r\nQ 24.171875 66.40625 20.328125 58.90625 \r\nQ 16.5 51.421875 16.5 36.375 \r\nQ 16.5 21.390625 20.328125 13.890625 \r\nQ 24.171875 6.390625 31.78125 6.390625 \r\nQ 39.453125 6.390625 43.28125 13.890625 \r\nQ 47.125 21.390625 47.125 36.375 \r\nQ 47.125 51.421875 43.28125 58.90625 \r\nQ 39.453125 66.40625 31.78125 66.40625 \r\nz\r\nM 31.78125 74.21875 \r\nQ 44.046875 74.21875 50.515625 64.515625 \r\nQ 56.984375 54.828125 56.984375 36.375 \r\nQ 56.984375 17.96875 50.515625 8.265625 \r\nQ 44.046875 -1.421875 31.78125 -1.421875 \r\nQ 19.53125 -1.421875 13.0625 8.265625 \r\nQ 6.59375 17.96875 6.59375 36.375 \r\nQ 6.59375 54.828125 13.0625 64.515625 \r\nQ 19.53125 74.21875 31.78125 74.21875 \r\nz\r\n\" id=\"DejaVuSans-48\"/>\r\n      </defs>\r\n      <g transform=\"translate(38.878852 239.301117)scale(0.1 -0.1)\">\r\n       <use xlink:href=\"#DejaVuSans-48\"/>\r\n      </g>\r\n     </g>\r\n    </g>\r\n    <g id=\"xtick_2\">\r\n     <g id=\"line2d_2\">\r\n      <g>\r\n       <use style=\"stroke:#000000;stroke-width:0.8;\" x=\"106.805979\" xlink:href=\"#m3e0b26ff9c\" y=\"224.702679\"/>\r\n      </g>\r\n     </g>\r\n     <g id=\"text_2\">\r\n      <!-- 20 -->\r\n      <defs>\r\n       <path d=\"M 19.1875 8.296875 \r\nL 53.609375 8.296875 \r\nL 53.609375 0 \r\nL 7.328125 0 \r\nL 7.328125 8.296875 \r\nQ 12.9375 14.109375 22.625 23.890625 \r\nQ 32.328125 33.6875 34.8125 36.53125 \r\nQ 39.546875 41.84375 41.421875 45.53125 \r\nQ 43.3125 49.21875 43.3125 52.78125 \r\nQ 43.3125 58.59375 39.234375 62.25 \r\nQ 35.15625 65.921875 28.609375 65.921875 \r\nQ 23.96875 65.921875 18.8125 64.3125 \r\nQ 13.671875 62.703125 7.8125 59.421875 \r\nL 7.8125 69.390625 \r\nQ 13.765625 71.78125 18.9375 73 \r\nQ 24.125 74.21875 28.421875 74.21875 \r\nQ 39.75 74.21875 46.484375 68.546875 \r\nQ 53.21875 62.890625 53.21875 53.421875 \r\nQ 53.21875 48.921875 51.53125 44.890625 \r\nQ 49.859375 40.875 45.40625 35.40625 \r\nQ 44.1875 33.984375 37.640625 27.21875 \r\nQ 31.109375 20.453125 19.1875 8.296875 \r\nz\r\n\" id=\"DejaVuSans-50\"/>\r\n      </defs>\r\n      <g transform=\"translate(100.443479 239.301117)scale(0.1 -0.1)\">\r\n       <use xlink:href=\"#DejaVuSans-50\"/>\r\n       <use x=\"63.623047\" xlink:href=\"#DejaVuSans-48\"/>\r\n      </g>\r\n     </g>\r\n    </g>\r\n    <g id=\"xtick_3\">\r\n     <g id=\"line2d_3\">\r\n      <g>\r\n       <use style=\"stroke:#000000;stroke-width:0.8;\" x=\"171.551855\" xlink:href=\"#m3e0b26ff9c\" y=\"224.702679\"/>\r\n      </g>\r\n     </g>\r\n     <g id=\"text_3\">\r\n      <!-- 40 -->\r\n      <defs>\r\n       <path d=\"M 37.796875 64.3125 \r\nL 12.890625 25.390625 \r\nL 37.796875 25.390625 \r\nz\r\nM 35.203125 72.90625 \r\nL 47.609375 72.90625 \r\nL 47.609375 25.390625 \r\nL 58.015625 25.390625 \r\nL 58.015625 17.1875 \r\nL 47.609375 17.1875 \r\nL 47.609375 0 \r\nL 37.796875 0 \r\nL 37.796875 17.1875 \r\nL 4.890625 17.1875 \r\nL 4.890625 26.703125 \r\nz\r\n\" id=\"DejaVuSans-52\"/>\r\n      </defs>\r\n      <g transform=\"translate(165.189355 239.301117)scale(0.1 -0.1)\">\r\n       <use xlink:href=\"#DejaVuSans-52\"/>\r\n       <use x=\"63.623047\" xlink:href=\"#DejaVuSans-48\"/>\r\n      </g>\r\n     </g>\r\n    </g>\r\n    <g id=\"xtick_4\">\r\n     <g id=\"line2d_4\">\r\n      <g>\r\n       <use style=\"stroke:#000000;stroke-width:0.8;\" x=\"236.297732\" xlink:href=\"#m3e0b26ff9c\" y=\"224.702679\"/>\r\n      </g>\r\n     </g>\r\n     <g id=\"text_4\">\r\n      <!-- 60 -->\r\n      <defs>\r\n       <path d=\"M 33.015625 40.375 \r\nQ 26.375 40.375 22.484375 35.828125 \r\nQ 18.609375 31.296875 18.609375 23.390625 \r\nQ 18.609375 15.53125 22.484375 10.953125 \r\nQ 26.375 6.390625 33.015625 6.390625 \r\nQ 39.65625 6.390625 43.53125 10.953125 \r\nQ 47.40625 15.53125 47.40625 23.390625 \r\nQ 47.40625 31.296875 43.53125 35.828125 \r\nQ 39.65625 40.375 33.015625 40.375 \r\nz\r\nM 52.59375 71.296875 \r\nL 52.59375 62.3125 \r\nQ 48.875 64.0625 45.09375 64.984375 \r\nQ 41.3125 65.921875 37.59375 65.921875 \r\nQ 27.828125 65.921875 22.671875 59.328125 \r\nQ 17.53125 52.734375 16.796875 39.40625 \r\nQ 19.671875 43.65625 24.015625 45.921875 \r\nQ 28.375 48.1875 33.59375 48.1875 \r\nQ 44.578125 48.1875 50.953125 41.515625 \r\nQ 57.328125 34.859375 57.328125 23.390625 \r\nQ 57.328125 12.15625 50.6875 5.359375 \r\nQ 44.046875 -1.421875 33.015625 -1.421875 \r\nQ 20.359375 -1.421875 13.671875 8.265625 \r\nQ 6.984375 17.96875 6.984375 36.375 \r\nQ 6.984375 53.65625 15.1875 63.9375 \r\nQ 23.390625 74.21875 37.203125 74.21875 \r\nQ 40.921875 74.21875 44.703125 73.484375 \r\nQ 48.484375 72.75 52.59375 71.296875 \r\nz\r\n\" id=\"DejaVuSans-54\"/>\r\n      </defs>\r\n      <g transform=\"translate(229.935232 239.301117)scale(0.1 -0.1)\">\r\n       <use xlink:href=\"#DejaVuSans-54\"/>\r\n       <use x=\"63.623047\" xlink:href=\"#DejaVuSans-48\"/>\r\n      </g>\r\n     </g>\r\n    </g>\r\n    <g id=\"xtick_5\">\r\n     <g id=\"line2d_5\">\r\n      <g>\r\n       <use style=\"stroke:#000000;stroke-width:0.8;\" x=\"301.043609\" xlink:href=\"#m3e0b26ff9c\" y=\"224.702679\"/>\r\n      </g>\r\n     </g>\r\n     <g id=\"text_5\">\r\n      <!-- 80 -->\r\n      <defs>\r\n       <path d=\"M 31.78125 34.625 \r\nQ 24.75 34.625 20.71875 30.859375 \r\nQ 16.703125 27.09375 16.703125 20.515625 \r\nQ 16.703125 13.921875 20.71875 10.15625 \r\nQ 24.75 6.390625 31.78125 6.390625 \r\nQ 38.8125 6.390625 42.859375 10.171875 \r\nQ 46.921875 13.96875 46.921875 20.515625 \r\nQ 46.921875 27.09375 42.890625 30.859375 \r\nQ 38.875 34.625 31.78125 34.625 \r\nz\r\nM 21.921875 38.8125 \r\nQ 15.578125 40.375 12.03125 44.71875 \r\nQ 8.5 49.078125 8.5 55.328125 \r\nQ 8.5 64.0625 14.71875 69.140625 \r\nQ 20.953125 74.21875 31.78125 74.21875 \r\nQ 42.671875 74.21875 48.875 69.140625 \r\nQ 55.078125 64.0625 55.078125 55.328125 \r\nQ 55.078125 49.078125 51.53125 44.71875 \r\nQ 48 40.375 41.703125 38.8125 \r\nQ 48.828125 37.15625 52.796875 32.3125 \r\nQ 56.78125 27.484375 56.78125 20.515625 \r\nQ 56.78125 9.90625 50.3125 4.234375 \r\nQ 43.84375 -1.421875 31.78125 -1.421875 \r\nQ 19.734375 -1.421875 13.25 4.234375 \r\nQ 6.78125 9.90625 6.78125 20.515625 \r\nQ 6.78125 27.484375 10.78125 32.3125 \r\nQ 14.796875 37.15625 21.921875 38.8125 \r\nz\r\nM 18.3125 54.390625 \r\nQ 18.3125 48.734375 21.84375 45.5625 \r\nQ 25.390625 42.390625 31.78125 42.390625 \r\nQ 38.140625 42.390625 41.71875 45.5625 \r\nQ 45.3125 48.734375 45.3125 54.390625 \r\nQ 45.3125 60.0625 41.71875 63.234375 \r\nQ 38.140625 66.40625 31.78125 66.40625 \r\nQ 25.390625 66.40625 21.84375 63.234375 \r\nQ 18.3125 60.0625 18.3125 54.390625 \r\nz\r\n\" id=\"DejaVuSans-56\"/>\r\n      </defs>\r\n      <g transform=\"translate(294.681109 239.301117)scale(0.1 -0.1)\">\r\n       <use xlink:href=\"#DejaVuSans-56\"/>\r\n       <use x=\"63.623047\" xlink:href=\"#DejaVuSans-48\"/>\r\n      </g>\r\n     </g>\r\n    </g>\r\n    <g id=\"xtick_6\">\r\n     <g id=\"line2d_6\">\r\n      <g>\r\n       <use style=\"stroke:#000000;stroke-width:0.8;\" x=\"365.789486\" xlink:href=\"#m3e0b26ff9c\" y=\"224.702679\"/>\r\n      </g>\r\n     </g>\r\n     <g id=\"text_6\">\r\n      <!-- 100 -->\r\n      <defs>\r\n       <path d=\"M 12.40625 8.296875 \r\nL 28.515625 8.296875 \r\nL 28.515625 63.921875 \r\nL 10.984375 60.40625 \r\nL 10.984375 69.390625 \r\nL 28.421875 72.90625 \r\nL 38.28125 72.90625 \r\nL 38.28125 8.296875 \r\nL 54.390625 8.296875 \r\nL 54.390625 0 \r\nL 12.40625 0 \r\nz\r\n\" id=\"DejaVuSans-49\"/>\r\n      </defs>\r\n      <g transform=\"translate(356.245736 239.301117)scale(0.1 -0.1)\">\r\n       <use xlink:href=\"#DejaVuSans-49\"/>\r\n       <use x=\"63.623047\" xlink:href=\"#DejaVuSans-48\"/>\r\n       <use x=\"127.246094\" xlink:href=\"#DejaVuSans-48\"/>\r\n      </g>\r\n     </g>\r\n    </g>\r\n   </g>\r\n   <g id=\"matplotlib.axis_2\">\r\n    <g id=\"ytick_1\">\r\n     <g id=\"line2d_7\">\r\n      <defs>\r\n       <path d=\"M 0 0 \r\nL -3.5 0 \r\n\" id=\"mc2007145ae\" style=\"stroke:#000000;stroke-width:0.8;\"/>\r\n      </defs>\r\n      <g>\r\n       <use style=\"stroke:#000000;stroke-width:0.8;\" x=\"33.2875\" xlink:href=\"#mc2007145ae\" y=\"216.849141\"/>\r\n      </g>\r\n     </g>\r\n     <g id=\"text_7\">\r\n      <!-- 0 -->\r\n      <g transform=\"translate(19.925 220.64836)scale(0.1 -0.1)\">\r\n       <use xlink:href=\"#DejaVuSans-48\"/>\r\n      </g>\r\n     </g>\r\n    </g>\r\n    <g id=\"ytick_2\">\r\n     <g id=\"line2d_8\">\r\n      <g>\r\n       <use style=\"stroke:#000000;stroke-width:0.8;\" x=\"33.2875\" xlink:href=\"#mc2007145ae\" y=\"175.679157\"/>\r\n      </g>\r\n     </g>\r\n     <g id=\"text_8\">\r\n      <!-- 20 -->\r\n      <g transform=\"translate(13.5625 179.478375)scale(0.1 -0.1)\">\r\n       <use xlink:href=\"#DejaVuSans-50\"/>\r\n       <use x=\"63.623047\" xlink:href=\"#DejaVuSans-48\"/>\r\n      </g>\r\n     </g>\r\n    </g>\r\n    <g id=\"ytick_3\">\r\n     <g id=\"line2d_9\">\r\n      <g>\r\n       <use style=\"stroke:#000000;stroke-width:0.8;\" x=\"33.2875\" xlink:href=\"#mc2007145ae\" y=\"134.509172\"/>\r\n      </g>\r\n     </g>\r\n     <g id=\"text_9\">\r\n      <!-- 40 -->\r\n      <g transform=\"translate(13.5625 138.308391)scale(0.1 -0.1)\">\r\n       <use xlink:href=\"#DejaVuSans-52\"/>\r\n       <use x=\"63.623047\" xlink:href=\"#DejaVuSans-48\"/>\r\n      </g>\r\n     </g>\r\n    </g>\r\n    <g id=\"ytick_4\">\r\n     <g id=\"line2d_10\">\r\n      <g>\r\n       <use style=\"stroke:#000000;stroke-width:0.8;\" x=\"33.2875\" xlink:href=\"#mc2007145ae\" y=\"93.339188\"/>\r\n      </g>\r\n     </g>\r\n     <g id=\"text_10\">\r\n      <!-- 60 -->\r\n      <g transform=\"translate(13.5625 97.138406)scale(0.1 -0.1)\">\r\n       <use xlink:href=\"#DejaVuSans-54\"/>\r\n       <use x=\"63.623047\" xlink:href=\"#DejaVuSans-48\"/>\r\n      </g>\r\n     </g>\r\n    </g>\r\n    <g id=\"ytick_5\">\r\n     <g id=\"line2d_11\">\r\n      <g>\r\n       <use style=\"stroke:#000000;stroke-width:0.8;\" x=\"33.2875\" xlink:href=\"#mc2007145ae\" y=\"52.169203\"/>\r\n      </g>\r\n     </g>\r\n     <g id=\"text_11\">\r\n      <!-- 80 -->\r\n      <g transform=\"translate(13.5625 55.968422)scale(0.1 -0.1)\">\r\n       <use xlink:href=\"#DejaVuSans-56\"/>\r\n       <use x=\"63.623047\" xlink:href=\"#DejaVuSans-48\"/>\r\n      </g>\r\n     </g>\r\n    </g>\r\n    <g id=\"ytick_6\">\r\n     <g id=\"line2d_12\">\r\n      <g>\r\n       <use style=\"stroke:#000000;stroke-width:0.8;\" x=\"33.2875\" xlink:href=\"#mc2007145ae\" y=\"10.999219\"/>\r\n      </g>\r\n     </g>\r\n     <g id=\"text_12\">\r\n      <!-- 100 -->\r\n      <g transform=\"translate(7.2 14.798437)scale(0.1 -0.1)\">\r\n       <use xlink:href=\"#DejaVuSans-49\"/>\r\n       <use x=\"63.623047\" xlink:href=\"#DejaVuSans-48\"/>\r\n       <use x=\"127.246094\" xlink:href=\"#DejaVuSans-48\"/>\r\n      </g>\r\n     </g>\r\n    </g>\r\n   </g>\r\n   <g id=\"patch_3\">\r\n    <path d=\"M 33.2875 224.702679 \r\nL 33.2875 7.262679 \r\n\" style=\"fill:none;stroke:#000000;stroke-linecap:square;stroke-linejoin:miter;stroke-width:0.8;\"/>\r\n   </g>\r\n   <g id=\"patch_4\">\r\n    <path d=\"M 368.0875 224.702679 \r\nL 368.0875 7.262679 \r\n\" style=\"fill:none;stroke:#000000;stroke-linecap:square;stroke-linejoin:miter;stroke-width:0.8;\"/>\r\n   </g>\r\n   <g id=\"patch_5\">\r\n    <path d=\"M 33.2875 224.702679 \r\nL 368.0875 224.702679 \r\n\" style=\"fill:none;stroke:#000000;stroke-linecap:square;stroke-linejoin:miter;stroke-width:0.8;\"/>\r\n   </g>\r\n   <g id=\"patch_6\">\r\n    <path d=\"M 33.2875 7.262679 \r\nL 368.0875 7.262679 \r\n\" style=\"fill:none;stroke:#000000;stroke-linecap:square;stroke-linejoin:miter;stroke-width:0.8;\"/>\r\n   </g>\r\n  </g>\r\n </g>\r\n <defs>\r\n  <clipPath id=\"p3c1763f74c\">\r\n   <rect height=\"217.44\" width=\"334.8\" x=\"33.2875\" y=\"7.262679\"/>\r\n  </clipPath>\r\n </defs>\r\n</svg>\r\n",
      "image/png": "[encoded data removed]"
     },
     "metadata": {
      "needs_background": "light"
     }
    }
   ],
   "source": [
    "\n",
    "plt.scatter(xtr[:,0], xtr[:,1], c=(yp==ytr))\n",
    "plt.scatter(xte[:,0], xte[:,1], marker='^', c=(ypte==yte))\n",
    "\n",
    "plt.savefig(\"DecisionTree_on_random_data_train_test_acc.png\", dpi=150)"
   ]
  }
 ]
}